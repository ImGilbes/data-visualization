{
 "cells": [
  {
   "cell_type": "markdown",
   "id": "f5787b4e",
   "metadata": {},
   "source": [
    "abc"
   ]
  },
  {
   "cell_type": "markdown",
   "id": "4071baba",
   "metadata": {},
   "source": [
    "abc"
   ]
  },
  {
   "cell_type": "markdown",
   "id": "470a2ea5",
   "metadata": {},
   "source": [
    "abc"
   ]
  },
  {
   "cell_type": "markdown",
   "id": "9b2228ac",
   "metadata": {},
   "source": []
  },
  {
   "cell_type": "markdown",
   "id": "16f5dc58",
   "metadata": {},
   "source": []
  },
  {
   "cell_type": "markdown",
   "id": "fe494567",
   "metadata": {},
   "source": []
  },
  {
   "cell_type": "markdown",
   "id": "c089b980",
   "metadata": {},
   "source": []
  },
  {
   "cell_type": "markdown",
   "id": "3579c734",
   "metadata": {},
   "source": []
  },
  {
   "cell_type": "markdown",
   "id": "9cc6e080",
   "metadata": {},
   "source": []
  },
  {
   "cell_type": "markdown",
   "id": "852968d1",
   "metadata": {},
   "source": []
  },
  {
   "cell_type": "markdown",
   "id": "e80922da",
   "metadata": {},
   "source": []
  },
  {
   "cell_type": "markdown",
   "id": "0fc697f2",
   "metadata": {},
   "source": []
  },
  {
   "cell_type": "markdown",
   "id": "bcd61c01",
   "metadata": {},
   "source": []
  },
  {
   "cell_type": "markdown",
   "id": "d458439e",
   "metadata": {},
   "source": []
  },
  {
   "cell_type": "markdown",
   "id": "0b82e539",
   "metadata": {},
   "source": []
  }
 ],
 "metadata": {
  "kernelspec": {
   "display_name": "Python 3 (ipykernel)",
   "language": "python",
   "name": "python3"
  },
  "language_info": {
   "codemirror_mode": {
    "name": "ipython",
    "version": 3
   },
   "file_extension": ".py",
   "mimetype": "text/x-python",
   "name": "python",
   "nbconvert_exporter": "python",
   "pygments_lexer": "ipython3",
   "version": "3.10.6"
  }
 },
 "nbformat": 4,
 "nbformat_minor": 5
}
